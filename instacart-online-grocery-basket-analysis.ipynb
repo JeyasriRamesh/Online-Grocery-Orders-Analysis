{
 "cells": [
  {
   "cell_type": "code",
   "execution_count": null,
   "id": "92d273d4",
   "metadata": {
    "papermill": {
     "duration": 0.00951,
     "end_time": "2022-05-06T22:03:29.026493",
     "exception": false,
     "start_time": "2022-05-06T22:03:29.016983",
     "status": "completed"
    },
    "tags": []
   },
   "outputs": [],
   "source": []
  },
  {
   "cell_type": "markdown",
   "id": "53623ac4",
   "metadata": {
    "papermill": {
     "duration": 0.008742,
     "end_time": "2022-05-06T22:03:29.043767",
     "exception": false,
     "start_time": "2022-05-06T22:03:29.035025",
     "status": "completed"
    },
    "tags": []
   },
   "source": [
    "# Problem statement"
   ]
  },
  {
   "cell_type": "code",
   "execution_count": 1,
   "id": "9bdcfb5c",
   "metadata": {
    "_cell_guid": "b1076dfc-b9ad-4769-8c92-a6c4dae69d19",
    "_uuid": "8f2839f25d086af736a60e9eeb907d3b93b6e0e5",
    "execution": {
     "iopub.execute_input": "2022-05-06T22:03:29.065317Z",
     "iopub.status.busy": "2022-05-06T22:03:29.064596Z",
     "iopub.status.idle": "2022-05-06T22:03:29.081387Z",
     "shell.execute_reply": "2022-05-06T22:03:29.080773Z"
    },
    "papermill": {
     "duration": 0.031182,
     "end_time": "2022-05-06T22:03:29.083429",
     "exception": false,
     "start_time": "2022-05-06T22:03:29.052247",
     "status": "completed"
    },
    "tags": []
   },
   "outputs": [
    {
     "name": "stdout",
     "output_type": "stream",
     "text": [
      "/kaggle/input/instacart-online-grocery-basket-analysis-dataset/products.csv\n",
      "/kaggle/input/instacart-online-grocery-basket-analysis-dataset/order_products__train.csv\n",
      "/kaggle/input/instacart-online-grocery-basket-analysis-dataset/orders.csv\n",
      "/kaggle/input/instacart-online-grocery-basket-analysis-dataset/order_products__prior.csv\n",
      "/kaggle/input/instacart-online-grocery-basket-analysis-dataset/aisles.csv\n",
      "/kaggle/input/instacart-online-grocery-basket-analysis-dataset/departments.csv\n"
     ]
    }
   ],
   "source": [
    "import numpy as np # linear algebra\n",
    "import pandas as pd # data processing, CSV file I/O (e.g. pd.read_csv)\n",
    "import os\n",
    "for dirname, _, filenames in os.walk('/kaggle/input'):\n",
    "    for filename in filenames:\n",
    "        print(os.path.join(dirname, filename))"
   ]
  },
  {
   "cell_type": "code",
   "execution_count": 2,
   "id": "89b07b2e",
   "metadata": {
    "execution": {
     "iopub.execute_input": "2022-05-06T22:03:29.102876Z",
     "iopub.status.busy": "2022-05-06T22:03:29.102389Z",
     "iopub.status.idle": "2022-05-06T22:03:43.834198Z",
     "shell.execute_reply": "2022-05-06T22:03:43.833493Z"
    },
    "papermill": {
     "duration": 14.743941,
     "end_time": "2022-05-06T22:03:43.836461",
     "exception": false,
     "start_time": "2022-05-06T22:03:29.092520",
     "status": "completed"
    },
    "tags": []
   },
   "outputs": [],
   "source": [
    "aisles_df = pd.read_csv('../input/instacart-online-grocery-basket-analysis-dataset/aisles.csv')\n",
    "department_df = pd.read_csv('../input/instacart-online-grocery-basket-analysis-dataset/departments.csv')\n",
    "order_products_prior_df = pd.read_csv('../input/instacart-online-grocery-basket-analysis-dataset/order_products__prior.csv')\n",
    "order_products_train_df = pd.read_csv('../input/instacart-online-grocery-basket-analysis-dataset/order_products__train.csv')\n",
    "orders_df = pd.read_csv('../input/instacart-online-grocery-basket-analysis-dataset/orders.csv')\n",
    "products_df = pd.read_csv('../input/instacart-online-grocery-basket-analysis-dataset/products.csv')\n"
   ]
  },
  {
   "cell_type": "code",
   "execution_count": 3,
   "id": "fcf93bec",
   "metadata": {
    "execution": {
     "iopub.execute_input": "2022-05-06T22:03:43.855622Z",
     "iopub.status.busy": "2022-05-06T22:03:43.855376Z",
     "iopub.status.idle": "2022-05-06T22:03:43.876338Z",
     "shell.execute_reply": "2022-05-06T22:03:43.875422Z"
    },
    "papermill": {
     "duration": 0.033941,
     "end_time": "2022-05-06T22:03:43.879344",
     "exception": false,
     "start_time": "2022-05-06T22:03:43.845403",
     "status": "completed"
    },
    "tags": []
   },
   "outputs": [
    {
     "data": {
      "text/plain": [
       "(   product_id                                       product_name  aisle_id  \\\n",
       " 0           1                         Chocolate Sandwich Cookies        61   \n",
       " 1           2                                   All-Seasons Salt       104   \n",
       " 2           3               Robust Golden Unsweetened Oolong Tea        94   \n",
       " 3           4  Smart Ones Classic Favorites Mini Rigatoni Wit...        38   \n",
       " 4           5                          Green Chile Anytime Sauce         5   \n",
       " \n",
       "    department_id  \n",
       " 0             19  \n",
       " 1             13  \n",
       " 2              7  \n",
       " 3              1  \n",
       " 4             13  ,\n",
       "    aisle_id                       aisle\n",
       " 0         1       prepared soups salads\n",
       " 1         2           specialty cheeses\n",
       " 2         3         energy granola bars\n",
       " 3         4               instant foods\n",
       " 4         5  marinades meat preparation,\n",
       "    department_id department\n",
       " 0              1     frozen\n",
       " 1              2      other\n",
       " 2              3     bakery\n",
       " 3              4    produce\n",
       " 4              5    alcohol,\n",
       "    order_id  product_id  add_to_cart_order  reordered\n",
       " 0         2       33120                  1          1\n",
       " 1         2       28985                  2          1\n",
       " 2         2        9327                  3          0\n",
       " 3         2       45918                  4          1\n",
       " 4         2       30035                  5          0,\n",
       "    order_id  user_id eval_set  order_number  order_dow  order_hour_of_day  \\\n",
       " 0   2539329        1    prior             1          2                  8   \n",
       " 1   2398795        1    prior             2          3                  7   \n",
       " 2    473747        1    prior             3          3                 12   \n",
       " 3   2254736        1    prior             4          4                  7   \n",
       " 4    431534        1    prior             5          4                 15   \n",
       " \n",
       "    days_since_prior_order  \n",
       " 0                     NaN  \n",
       " 1                    15.0  \n",
       " 2                    21.0  \n",
       " 3                    29.0  \n",
       " 4                    28.0  )"
      ]
     },
     "execution_count": 3,
     "metadata": {},
     "output_type": "execute_result"
    }
   ],
   "source": [
    "products_df.head(), aisles_df.head(), department_df.head(), order_products_prior_df.head(), orders_df.head()"
   ]
  },
  {
   "cell_type": "code",
   "execution_count": null,
   "id": "aebd71fc",
   "metadata": {
    "execution": {
     "iopub.execute_input": "2022-05-06T06:16:13.311166Z",
     "iopub.status.busy": "2022-05-06T06:16:13.309884Z",
     "iopub.status.idle": "2022-05-06T06:16:13.327024Z",
     "shell.execute_reply": "2022-05-06T06:16:13.325991Z",
     "shell.execute_reply.started": "2022-05-06T06:16:13.311116Z"
    },
    "papermill": {
     "duration": 0.008848,
     "end_time": "2022-05-06T22:03:43.897338",
     "exception": false,
     "start_time": "2022-05-06T22:03:43.888490",
     "status": "completed"
    },
    "tags": []
   },
   "outputs": [],
   "source": []
  },
  {
   "cell_type": "code",
   "execution_count": null,
   "id": "c7d14d88",
   "metadata": {
    "papermill": {
     "duration": 0.009007,
     "end_time": "2022-05-06T22:03:43.916227",
     "exception": false,
     "start_time": "2022-05-06T22:03:43.907220",
     "status": "completed"
    },
    "tags": []
   },
   "outputs": [],
   "source": []
  },
  {
   "cell_type": "code",
   "execution_count": null,
   "id": "a80b4292",
   "metadata": {
    "execution": {
     "iopub.execute_input": "2022-05-06T06:06:17.469543Z",
     "iopub.status.busy": "2022-05-06T06:06:17.469201Z",
     "iopub.status.idle": "2022-05-06T06:06:17.482953Z",
     "shell.execute_reply": "2022-05-06T06:06:17.481891Z",
     "shell.execute_reply.started": "2022-05-06T06:06:17.469506Z"
    },
    "papermill": {
     "duration": 0.009388,
     "end_time": "2022-05-06T22:03:43.935289",
     "exception": false,
     "start_time": "2022-05-06T22:03:43.925901",
     "status": "completed"
    },
    "tags": []
   },
   "outputs": [],
   "source": []
  },
  {
   "cell_type": "code",
   "execution_count": null,
   "id": "bacc2b38",
   "metadata": {
    "execution": {
     "iopub.execute_input": "2022-05-06T06:01:44.203425Z",
     "iopub.status.busy": "2022-05-06T06:01:44.202633Z",
     "iopub.status.idle": "2022-05-06T06:01:44.22789Z",
     "shell.execute_reply": "2022-05-06T06:01:44.226615Z",
     "shell.execute_reply.started": "2022-05-06T06:01:44.203348Z"
    },
    "papermill": {
     "duration": 0.008756,
     "end_time": "2022-05-06T22:03:43.953307",
     "exception": false,
     "start_time": "2022-05-06T22:03:43.944551",
     "status": "completed"
    },
    "tags": []
   },
   "outputs": [],
   "source": []
  },
  {
   "cell_type": "code",
   "execution_count": null,
   "id": "22b60bbc",
   "metadata": {
    "execution": {
     "iopub.execute_input": "2022-05-06T06:02:03.512062Z",
     "iopub.status.busy": "2022-05-06T06:02:03.511734Z",
     "iopub.status.idle": "2022-05-06T06:02:03.522143Z",
     "shell.execute_reply": "2022-05-06T06:02:03.521366Z",
     "shell.execute_reply.started": "2022-05-06T06:02:03.512029Z"
    },
    "papermill": {
     "duration": 0.008763,
     "end_time": "2022-05-06T22:03:43.971079",
     "exception": false,
     "start_time": "2022-05-06T22:03:43.962316",
     "status": "completed"
    },
    "tags": []
   },
   "outputs": [],
   "source": []
  },
  {
   "cell_type": "code",
   "execution_count": null,
   "id": "07e036fa",
   "metadata": {
    "papermill": {
     "duration": 0.009248,
     "end_time": "2022-05-06T22:03:43.989802",
     "exception": false,
     "start_time": "2022-05-06T22:03:43.980554",
     "status": "completed"
    },
    "tags": []
   },
   "outputs": [],
   "source": []
  }
 ],
 "metadata": {
  "kernelspec": {
   "display_name": "Python 3",
   "language": "python",
   "name": "python3"
  },
  "language_info": {
   "codemirror_mode": {
    "name": "ipython",
    "version": 3
   },
   "file_extension": ".py",
   "mimetype": "text/x-python",
   "name": "python",
   "nbconvert_exporter": "python",
   "pygments_lexer": "ipython3",
   "version": "3.7.12"
  },
  "papermill": {
   "default_parameters": {},
   "duration": 24.018449,
   "end_time": "2022-05-06T22:03:44.620090",
   "environment_variables": {},
   "exception": null,
   "input_path": "__notebook__.ipynb",
   "output_path": "__notebook__.ipynb",
   "parameters": {},
   "start_time": "2022-05-06T22:03:20.601641",
   "version": "2.3.4"
  }
 },
 "nbformat": 4,
 "nbformat_minor": 5
}
