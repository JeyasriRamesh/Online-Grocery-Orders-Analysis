{
 "cells": [
  {
   "cell_type": "markdown",
   "id": "46c515b2",
   "metadata": {
    "papermill": {
     "duration": 0.012898,
     "end_time": "2022-05-11T15:33:53.892253",
     "exception": false,
     "start_time": "2022-05-11T15:33:53.879355",
     "status": "completed"
    },
    "tags": []
   },
   "source": [
    " \n",
    "# Business Questions\n",
    "\n",
    "1. What does the dataset tell overall? \n",
    "2. How to efficiently stock the products with respect to order placed time/date? \n",
    "3. How can we predict the products that will be reordered by a customer?\n",
    "4. How can the products be grouped for combo offers?\n",
    "5. What are the frequently reordered products?\n",
    "6. Are order size and frequency of orders of a customer related?\n",
    "7. How can we profile the customer?\n",
    "8. How can we increase the cart size of the customer?\n",
    "9. What are all the product categories that can be removed from the catalog?\n",
    "10. Will time bound offers/discounts work for any product categories? \n",
    "11. How is the product-wise sales within each categories?\n",
    "12. Is there any significant difference between the products orders on weekdays and weekends?\n",
    "12. How can we refine existing data collection for better insights? \n"
   ]
  },
  {
   "cell_type": "code",
   "execution_count": null,
   "id": "65520e00",
   "metadata": {
    "papermill": {
     "duration": 0.010974,
     "end_time": "2022-05-11T15:33:53.915346",
     "exception": false,
     "start_time": "2022-05-11T15:33:53.904372",
     "status": "completed"
    },
    "tags": []
   },
   "outputs": [],
   "source": []
  },
  {
   "cell_type": "code",
   "execution_count": 1,
   "id": "dfca0c1e",
   "metadata": {
    "_cell_guid": "b1076dfc-b9ad-4769-8c92-a6c4dae69d19",
    "_uuid": "8f2839f25d086af736a60e9eeb907d3b93b6e0e5",
    "execution": {
     "iopub.execute_input": "2022-05-11T15:33:53.940621Z",
     "iopub.status.busy": "2022-05-11T15:33:53.939515Z",
     "iopub.status.idle": "2022-05-11T15:33:53.959493Z",
     "shell.execute_reply": "2022-05-11T15:33:53.958615Z"
    },
    "papermill": {
     "duration": 0.035334,
     "end_time": "2022-05-11T15:33:53.962065",
     "exception": false,
     "start_time": "2022-05-11T15:33:53.926731",
     "status": "completed"
    },
    "tags": []
   },
   "outputs": [
    {
     "name": "stdout",
     "output_type": "stream",
     "text": [
      "/kaggle/input/instacart-online-grocery-basket-analysis-dataset/products.csv\n",
      "/kaggle/input/instacart-online-grocery-basket-analysis-dataset/order_products__train.csv\n",
      "/kaggle/input/instacart-online-grocery-basket-analysis-dataset/orders.csv\n",
      "/kaggle/input/instacart-online-grocery-basket-analysis-dataset/order_products__prior.csv\n",
      "/kaggle/input/instacart-online-grocery-basket-analysis-dataset/aisles.csv\n",
      "/kaggle/input/instacart-online-grocery-basket-analysis-dataset/departments.csv\n"
     ]
    }
   ],
   "source": [
    "#Libraries required \n",
    "\n",
    "import numpy as np # linear algebra\n",
    "import pandas as pd # data processing, CSV file I/O (e.g. pd.read_csv)\n",
    "import os\n",
    "for dirname, _, filenames in os.walk('/kaggle/input'):\n",
    "    for filename in filenames:\n",
    "        print(os.path.join(dirname, filename))"
   ]
  },
  {
   "cell_type": "code",
   "execution_count": 2,
   "id": "3720b17d",
   "metadata": {
    "execution": {
     "iopub.execute_input": "2022-05-11T15:33:53.988403Z",
     "iopub.status.busy": "2022-05-11T15:33:53.987458Z",
     "iopub.status.idle": "2022-05-11T15:34:12.982792Z",
     "shell.execute_reply": "2022-05-11T15:34:12.981889Z"
    },
    "papermill": {
     "duration": 19.010828,
     "end_time": "2022-05-11T15:34:12.985298",
     "exception": false,
     "start_time": "2022-05-11T15:33:53.974470",
     "status": "completed"
    },
    "tags": []
   },
   "outputs": [],
   "source": [
    "\n",
    "#Loading data\n",
    "\n",
    "aisles_df = pd.read_csv('../input/instacart-online-grocery-basket-analysis-dataset/aisles.csv')\n",
    "department_df = pd.read_csv('../input/instacart-online-grocery-basket-analysis-dataset/departments.csv')\n",
    "order_products_prior_df = pd.read_csv('../input/instacart-online-grocery-basket-analysis-dataset/order_products__prior.csv')\n",
    "order_products_train_df = pd.read_csv('../input/instacart-online-grocery-basket-analysis-dataset/order_products__train.csv')\n",
    "orders_df = pd.read_csv('../input/instacart-online-grocery-basket-analysis-dataset/orders.csv')\n",
    "products_df = pd.read_csv('../input/instacart-online-grocery-basket-analysis-dataset/products.csv')\n",
    "\n",
    "\n"
   ]
  },
  {
   "cell_type": "code",
   "execution_count": 3,
   "id": "31580e8f",
   "metadata": {
    "execution": {
     "iopub.execute_input": "2022-05-11T15:34:13.011316Z",
     "iopub.status.busy": "2022-05-11T15:34:13.010599Z",
     "iopub.status.idle": "2022-05-11T15:34:13.014978Z",
     "shell.execute_reply": "2022-05-11T15:34:13.014064Z"
    },
    "papermill": {
     "duration": 0.020659,
     "end_time": "2022-05-11T15:34:13.018017",
     "exception": false,
     "start_time": "2022-05-11T15:34:12.997358",
     "status": "completed"
    },
    "tags": []
   },
   "outputs": [],
   "source": [
    "#products_df.info(), aisles_df.info(), department_df.info(), order_products_prior_df.info(), orders_df.info()"
   ]
  },
  {
   "cell_type": "code",
   "execution_count": 4,
   "id": "a0ed1e7e",
   "metadata": {
    "execution": {
     "iopub.execute_input": "2022-05-11T15:34:13.048026Z",
     "iopub.status.busy": "2022-05-11T15:34:13.047067Z",
     "iopub.status.idle": "2022-05-11T15:34:13.051132Z",
     "shell.execute_reply": "2022-05-11T15:34:13.050406Z"
    },
    "papermill": {
     "duration": 0.01939,
     "end_time": "2022-05-11T15:34:13.053103",
     "exception": false,
     "start_time": "2022-05-11T15:34:13.033713",
     "status": "completed"
    },
    "tags": []
   },
   "outputs": [],
   "source": [
    "#Previewing data\n",
    "\n",
    "#products_df.head(), aisles_df.head(), department_df.head(), order_products_prior_df.head(), orders_df.head()\n"
   ]
  },
  {
   "cell_type": "code",
   "execution_count": null,
   "id": "d0de898c",
   "metadata": {
    "papermill": {
     "duration": 0.011778,
     "end_time": "2022-05-11T15:34:13.076954",
     "exception": false,
     "start_time": "2022-05-11T15:34:13.065176",
     "status": "completed"
    },
    "tags": []
   },
   "outputs": [],
   "source": []
  },
  {
   "cell_type": "code",
   "execution_count": null,
   "id": "233d4765",
   "metadata": {
    "execution": {
     "iopub.execute_input": "2022-05-06T06:06:17.469543Z",
     "iopub.status.busy": "2022-05-06T06:06:17.469201Z",
     "iopub.status.idle": "2022-05-06T06:06:17.482953Z",
     "shell.execute_reply": "2022-05-06T06:06:17.481891Z",
     "shell.execute_reply.started": "2022-05-06T06:06:17.469506Z"
    },
    "papermill": {
     "duration": 0.011936,
     "end_time": "2022-05-11T15:34:13.101582",
     "exception": false,
     "start_time": "2022-05-11T15:34:13.089646",
     "status": "completed"
    },
    "tags": []
   },
   "outputs": [],
   "source": []
  },
  {
   "cell_type": "code",
   "execution_count": null,
   "id": "97c8d139",
   "metadata": {
    "execution": {
     "iopub.execute_input": "2022-05-06T06:01:44.203425Z",
     "iopub.status.busy": "2022-05-06T06:01:44.202633Z",
     "iopub.status.idle": "2022-05-06T06:01:44.22789Z",
     "shell.execute_reply": "2022-05-06T06:01:44.226615Z",
     "shell.execute_reply.started": "2022-05-06T06:01:44.203348Z"
    },
    "papermill": {
     "duration": 0.011612,
     "end_time": "2022-05-11T15:34:13.125859",
     "exception": false,
     "start_time": "2022-05-11T15:34:13.114247",
     "status": "completed"
    },
    "tags": []
   },
   "outputs": [],
   "source": []
  },
  {
   "cell_type": "code",
   "execution_count": null,
   "id": "12e54fde",
   "metadata": {
    "execution": {
     "iopub.execute_input": "2022-05-06T06:02:03.512062Z",
     "iopub.status.busy": "2022-05-06T06:02:03.511734Z",
     "iopub.status.idle": "2022-05-06T06:02:03.522143Z",
     "shell.execute_reply": "2022-05-06T06:02:03.521366Z",
     "shell.execute_reply.started": "2022-05-06T06:02:03.512029Z"
    },
    "papermill": {
     "duration": 0.011787,
     "end_time": "2022-05-11T15:34:13.149504",
     "exception": false,
     "start_time": "2022-05-11T15:34:13.137717",
     "status": "completed"
    },
    "tags": []
   },
   "outputs": [],
   "source": []
  },
  {
   "cell_type": "code",
   "execution_count": null,
   "id": "ad3e68a5",
   "metadata": {
    "papermill": {
     "duration": 0.011255,
     "end_time": "2022-05-11T15:34:13.172494",
     "exception": false,
     "start_time": "2022-05-11T15:34:13.161239",
     "status": "completed"
    },
    "tags": []
   },
   "outputs": [],
   "source": []
  }
 ],
 "metadata": {
  "kernelspec": {
   "display_name": "Python 3",
   "language": "python",
   "name": "python3"
  },
  "language_info": {
   "codemirror_mode": {
    "name": "ipython",
    "version": 3
   },
   "file_extension": ".py",
   "mimetype": "text/x-python",
   "name": "python",
   "nbconvert_exporter": "python",
   "pygments_lexer": "ipython3",
   "version": "3.7.12"
  },
  "papermill": {
   "default_parameters": {},
   "duration": 30.030651,
   "end_time": "2022-05-11T15:34:13.906040",
   "environment_variables": {},
   "exception": null,
   "input_path": "__notebook__.ipynb",
   "output_path": "__notebook__.ipynb",
   "parameters": {},
   "start_time": "2022-05-11T15:33:43.875389",
   "version": "2.3.4"
  }
 },
 "nbformat": 4,
 "nbformat_minor": 5
}
