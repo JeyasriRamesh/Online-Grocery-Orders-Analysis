{
 "cells": [
  {
   "cell_type": "markdown",
   "id": "fefffb3b",
   "metadata": {
    "papermill": {
     "duration": 0.014,
     "end_time": "2022-05-06T23:01:46.225789",
     "exception": false,
     "start_time": "2022-05-06T23:01:46.211789",
     "status": "completed"
    },
    "tags": []
   },
   "source": [
    " \n",
    "# Business Questions\n",
    "\n",
    "1. What does the dataset tell overall? \n",
    "2. How to efficiently stock the products with respect to order placed time/date? \n",
    "3. How can we predict the products that will be reordered by a customer?\n",
    "4. How can the products be grouped for combo offers?\n",
    "5. What are the frequently reordered products?\n",
    "6. Are order size and frequency of orders of a customer related?\n",
    "7. How can we profile the customer?\n",
    "8. How can we increase the cart size of the customer?\n",
    "9. What are all the product categories that can be removed from the catalog?\n",
    "10. Will time bound offers/discounts work for any product categories?   \n",
    "11. How can we refine existing data collection for better insights? \n"
   ]
  },
  {
   "cell_type": "code",
   "execution_count": 1,
   "id": "c44fa043",
   "metadata": {
    "_cell_guid": "b1076dfc-b9ad-4769-8c92-a6c4dae69d19",
    "_uuid": "8f2839f25d086af736a60e9eeb907d3b93b6e0e5",
    "execution": {
     "iopub.execute_input": "2022-05-06T23:01:46.254086Z",
     "iopub.status.busy": "2022-05-06T23:01:46.253764Z",
     "iopub.status.idle": "2022-05-06T23:01:46.277420Z",
     "shell.execute_reply": "2022-05-06T23:01:46.275862Z"
    },
    "papermill": {
     "duration": 0.04109,
     "end_time": "2022-05-06T23:01:46.280209",
     "exception": false,
     "start_time": "2022-05-06T23:01:46.239119",
     "status": "completed"
    },
    "tags": []
   },
   "outputs": [
    {
     "name": "stdout",
     "output_type": "stream",
     "text": [
      "/kaggle/input/instacart-online-grocery-basket-analysis-dataset/products.csv\n",
      "/kaggle/input/instacart-online-grocery-basket-analysis-dataset/order_products__train.csv\n",
      "/kaggle/input/instacart-online-grocery-basket-analysis-dataset/orders.csv\n",
      "/kaggle/input/instacart-online-grocery-basket-analysis-dataset/order_products__prior.csv\n",
      "/kaggle/input/instacart-online-grocery-basket-analysis-dataset/aisles.csv\n",
      "/kaggle/input/instacart-online-grocery-basket-analysis-dataset/departments.csv\n"
     ]
    }
   ],
   "source": [
    "#Libraries required \n",
    "\n",
    "import numpy as np # linear algebra\n",
    "import pandas as pd # data processing, CSV file I/O (e.g. pd.read_csv)\n",
    "import os\n",
    "for dirname, _, filenames in os.walk('/kaggle/input'):\n",
    "    for filename in filenames:\n",
    "        print(os.path.join(dirname, filename))"
   ]
  },
  {
   "cell_type": "code",
   "execution_count": 2,
   "id": "87a58e00",
   "metadata": {
    "execution": {
     "iopub.execute_input": "2022-05-06T23:01:46.308893Z",
     "iopub.status.busy": "2022-05-06T23:01:46.308617Z",
     "iopub.status.idle": "2022-05-06T23:02:07.145658Z",
     "shell.execute_reply": "2022-05-06T23:02:07.144263Z"
    },
    "papermill": {
     "duration": 20.8541,
     "end_time": "2022-05-06T23:02:07.148077",
     "exception": false,
     "start_time": "2022-05-06T23:01:46.293977",
     "status": "completed"
    },
    "tags": []
   },
   "outputs": [
    {
     "data": {
      "text/plain": [
       "(   product_id                                       product_name  aisle_id  \\\n",
       " 0           1                         Chocolate Sandwich Cookies        61   \n",
       " 1           2                                   All-Seasons Salt       104   \n",
       " 2           3               Robust Golden Unsweetened Oolong Tea        94   \n",
       " 3           4  Smart Ones Classic Favorites Mini Rigatoni Wit...        38   \n",
       " 4           5                          Green Chile Anytime Sauce         5   \n",
       " \n",
       "    department_id  \n",
       " 0             19  \n",
       " 1             13  \n",
       " 2              7  \n",
       " 3              1  \n",
       " 4             13  ,\n",
       "    aisle_id                       aisle\n",
       " 0         1       prepared soups salads\n",
       " 1         2           specialty cheeses\n",
       " 2         3         energy granola bars\n",
       " 3         4               instant foods\n",
       " 4         5  marinades meat preparation,\n",
       "    department_id department\n",
       " 0              1     frozen\n",
       " 1              2      other\n",
       " 2              3     bakery\n",
       " 3              4    produce\n",
       " 4              5    alcohol,\n",
       "    order_id  product_id  add_to_cart_order  reordered\n",
       " 0         2       33120                  1          1\n",
       " 1         2       28985                  2          1\n",
       " 2         2        9327                  3          0\n",
       " 3         2       45918                  4          1\n",
       " 4         2       30035                  5          0,\n",
       "    order_id  user_id eval_set  order_number  order_dow  order_hour_of_day  \\\n",
       " 0   2539329        1    prior             1          2                  8   \n",
       " 1   2398795        1    prior             2          3                  7   \n",
       " 2    473747        1    prior             3          3                 12   \n",
       " 3   2254736        1    prior             4          4                  7   \n",
       " 4    431534        1    prior             5          4                 15   \n",
       " \n",
       "    days_since_prior_order  \n",
       " 0                     NaN  \n",
       " 1                    15.0  \n",
       " 2                    21.0  \n",
       " 3                    29.0  \n",
       " 4                    28.0  )"
      ]
     },
     "execution_count": 2,
     "metadata": {},
     "output_type": "execute_result"
    }
   ],
   "source": [
    "\n",
    "#Loading data\n",
    "\n",
    "aisles_df = pd.read_csv('../input/instacart-online-grocery-basket-analysis-dataset/aisles.csv')\n",
    "department_df = pd.read_csv('../input/instacart-online-grocery-basket-analysis-dataset/departments.csv')\n",
    "order_products_prior_df = pd.read_csv('../input/instacart-online-grocery-basket-analysis-dataset/order_products__prior.csv')\n",
    "order_products_train_df = pd.read_csv('../input/instacart-online-grocery-basket-analysis-dataset/order_products__train.csv')\n",
    "orders_df = pd.read_csv('../input/instacart-online-grocery-basket-analysis-dataset/orders.csv')\n",
    "products_df = pd.read_csv('../input/instacart-online-grocery-basket-analysis-dataset/products.csv')\n",
    "\n",
    "\n",
    "#Previewing data\n",
    "\n",
    "products_df.head(), aisles_df.head(), department_df.head(), order_products_prior_df.head(), orders_df.head()\n"
   ]
  },
  {
   "cell_type": "code",
   "execution_count": 3,
   "id": "58225197",
   "metadata": {
    "execution": {
     "iopub.execute_input": "2022-05-06T23:02:07.177534Z",
     "iopub.status.busy": "2022-05-06T23:02:07.177299Z",
     "iopub.status.idle": "2022-05-06T23:02:07.225345Z",
     "shell.execute_reply": "2022-05-06T23:02:07.224351Z"
    },
    "papermill": {
     "duration": 0.065951,
     "end_time": "2022-05-06T23:02:07.228024",
     "exception": false,
     "start_time": "2022-05-06T23:02:07.162073",
     "status": "completed"
    },
    "tags": []
   },
   "outputs": [
    {
     "name": "stdout",
     "output_type": "stream",
     "text": [
      "<class 'pandas.core.frame.DataFrame'>\n",
      "RangeIndex: 49688 entries, 0 to 49687\n",
      "Data columns (total 4 columns):\n",
      " #   Column         Non-Null Count  Dtype \n",
      "---  ------         --------------  ----- \n",
      " 0   product_id     49688 non-null  int64 \n",
      " 1   product_name   49688 non-null  object\n",
      " 2   aisle_id       49688 non-null  int64 \n",
      " 3   department_id  49688 non-null  int64 \n",
      "dtypes: int64(3), object(1)\n",
      "memory usage: 1.5+ MB\n",
      "<class 'pandas.core.frame.DataFrame'>\n",
      "RangeIndex: 134 entries, 0 to 133\n",
      "Data columns (total 2 columns):\n",
      " #   Column    Non-Null Count  Dtype \n",
      "---  ------    --------------  ----- \n",
      " 0   aisle_id  134 non-null    int64 \n",
      " 1   aisle     134 non-null    object\n",
      "dtypes: int64(1), object(1)\n",
      "memory usage: 2.2+ KB\n",
      "<class 'pandas.core.frame.DataFrame'>\n",
      "RangeIndex: 21 entries, 0 to 20\n",
      "Data columns (total 2 columns):\n",
      " #   Column         Non-Null Count  Dtype \n",
      "---  ------         --------------  ----- \n",
      " 0   department_id  21 non-null     int64 \n",
      " 1   department     21 non-null     object\n",
      "dtypes: int64(1), object(1)\n",
      "memory usage: 464.0+ bytes\n",
      "<class 'pandas.core.frame.DataFrame'>\n",
      "RangeIndex: 32434489 entries, 0 to 32434488\n",
      "Data columns (total 4 columns):\n",
      " #   Column             Dtype\n",
      "---  ------             -----\n",
      " 0   order_id           int64\n",
      " 1   product_id         int64\n",
      " 2   add_to_cart_order  int64\n",
      " 3   reordered          int64\n",
      "dtypes: int64(4)\n",
      "memory usage: 989.8 MB\n",
      "<class 'pandas.core.frame.DataFrame'>\n",
      "RangeIndex: 3421083 entries, 0 to 3421082\n",
      "Data columns (total 7 columns):\n",
      " #   Column                  Dtype  \n",
      "---  ------                  -----  \n",
      " 0   order_id                int64  \n",
      " 1   user_id                 int64  \n",
      " 2   eval_set                object \n",
      " 3   order_number            int64  \n",
      " 4   order_dow               int64  \n",
      " 5   order_hour_of_day       int64  \n",
      " 6   days_since_prior_order  float64\n",
      "dtypes: float64(1), int64(5), object(1)\n",
      "memory usage: 182.7+ MB\n"
     ]
    },
    {
     "data": {
      "text/plain": [
       "(None, None, None, None, None)"
      ]
     },
     "execution_count": 3,
     "metadata": {},
     "output_type": "execute_result"
    }
   ],
   "source": [
    "products_df.info(), aisles_df.info(), department_df.info(), order_products_prior_df.info(), orders_df.info()"
   ]
  },
  {
   "cell_type": "code",
   "execution_count": null,
   "id": "764e3463",
   "metadata": {
    "execution": {
     "iopub.execute_input": "2022-05-06T06:16:13.311166Z",
     "iopub.status.busy": "2022-05-06T06:16:13.309884Z",
     "iopub.status.idle": "2022-05-06T06:16:13.327024Z",
     "shell.execute_reply": "2022-05-06T06:16:13.325991Z",
     "shell.execute_reply.started": "2022-05-06T06:16:13.311116Z"
    },
    "papermill": {
     "duration": 0.014467,
     "end_time": "2022-05-06T23:02:07.259210",
     "exception": false,
     "start_time": "2022-05-06T23:02:07.244743",
     "status": "completed"
    },
    "tags": []
   },
   "outputs": [],
   "source": []
  },
  {
   "cell_type": "code",
   "execution_count": null,
   "id": "9e9746e3",
   "metadata": {
    "papermill": {
     "duration": 0.014563,
     "end_time": "2022-05-06T23:02:07.288637",
     "exception": false,
     "start_time": "2022-05-06T23:02:07.274074",
     "status": "completed"
    },
    "tags": []
   },
   "outputs": [],
   "source": []
  },
  {
   "cell_type": "code",
   "execution_count": null,
   "id": "b6c5b8ff",
   "metadata": {
    "execution": {
     "iopub.execute_input": "2022-05-06T06:06:17.469543Z",
     "iopub.status.busy": "2022-05-06T06:06:17.469201Z",
     "iopub.status.idle": "2022-05-06T06:06:17.482953Z",
     "shell.execute_reply": "2022-05-06T06:06:17.481891Z",
     "shell.execute_reply.started": "2022-05-06T06:06:17.469506Z"
    },
    "papermill": {
     "duration": 0.014498,
     "end_time": "2022-05-06T23:02:07.318078",
     "exception": false,
     "start_time": "2022-05-06T23:02:07.303580",
     "status": "completed"
    },
    "tags": []
   },
   "outputs": [],
   "source": []
  },
  {
   "cell_type": "code",
   "execution_count": null,
   "id": "b9c5e59b",
   "metadata": {
    "execution": {
     "iopub.execute_input": "2022-05-06T06:01:44.203425Z",
     "iopub.status.busy": "2022-05-06T06:01:44.202633Z",
     "iopub.status.idle": "2022-05-06T06:01:44.22789Z",
     "shell.execute_reply": "2022-05-06T06:01:44.226615Z",
     "shell.execute_reply.started": "2022-05-06T06:01:44.203348Z"
    },
    "papermill": {
     "duration": 0.01457,
     "end_time": "2022-05-06T23:02:07.347557",
     "exception": false,
     "start_time": "2022-05-06T23:02:07.332987",
     "status": "completed"
    },
    "tags": []
   },
   "outputs": [],
   "source": []
  },
  {
   "cell_type": "code",
   "execution_count": null,
   "id": "3bb65e50",
   "metadata": {
    "execution": {
     "iopub.execute_input": "2022-05-06T06:02:03.512062Z",
     "iopub.status.busy": "2022-05-06T06:02:03.511734Z",
     "iopub.status.idle": "2022-05-06T06:02:03.522143Z",
     "shell.execute_reply": "2022-05-06T06:02:03.521366Z",
     "shell.execute_reply.started": "2022-05-06T06:02:03.512029Z"
    },
    "papermill": {
     "duration": 0.01442,
     "end_time": "2022-05-06T23:02:07.377237",
     "exception": false,
     "start_time": "2022-05-06T23:02:07.362817",
     "status": "completed"
    },
    "tags": []
   },
   "outputs": [],
   "source": []
  },
  {
   "cell_type": "code",
   "execution_count": null,
   "id": "f9f65a0e",
   "metadata": {
    "papermill": {
     "duration": 0.014526,
     "end_time": "2022-05-06T23:02:07.406458",
     "exception": false,
     "start_time": "2022-05-06T23:02:07.391932",
     "status": "completed"
    },
    "tags": []
   },
   "outputs": [],
   "source": []
  }
 ],
 "metadata": {
  "kernelspec": {
   "display_name": "Python 3",
   "language": "python",
   "name": "python3"
  },
  "language_info": {
   "codemirror_mode": {
    "name": "ipython",
    "version": 3
   },
   "file_extension": ".py",
   "mimetype": "text/x-python",
   "name": "python",
   "nbconvert_exporter": "python",
   "pygments_lexer": "ipython3",
   "version": "3.7.12"
  },
  "papermill": {
   "default_parameters": {},
   "duration": 31.403844,
   "end_time": "2022-05-06T23:02:08.142273",
   "environment_variables": {},
   "exception": null,
   "input_path": "__notebook__.ipynb",
   "output_path": "__notebook__.ipynb",
   "parameters": {},
   "start_time": "2022-05-06T23:01:36.738429",
   "version": "2.3.4"
  }
 },
 "nbformat": 4,
 "nbformat_minor": 5
}
