{
 "cells": [
  {
   "cell_type": "markdown",
   "id": "85939e52",
   "metadata": {
    "papermill": {
     "duration": 0.015027,
     "end_time": "2022-05-14T11:18:31.102848",
     "exception": false,
     "start_time": "2022-05-14T11:18:31.087821",
     "status": "completed"
    },
    "tags": []
   },
   "source": [
    " \n",
    "# Business Questions\n",
    "\n",
    "1. What are the summary statistics? \n",
    "2. How to efficiently stock the products with respect to order placed time/date? (pivot time Vs prods)\n",
    "3. How can we predict the products that will be reordered by a customer? \n",
    "4. How can the products be grouped for combo offers? (market basket analysis)\n",
    "5. What are the frequently reordered products? (stats)\n",
    "6. Are order size and frequency of orders of a customer related? (hypothesis)\n",
    "7. How can we profile the customer? (clustering)\n",
    "8. How can we increase the cart size of the customer? (market basket analysis - complementry products/ did u forget)\n",
    "9. What are all the product categories that can be removed from the catalog? (pivot) \n",
    "10. Will time bound offers/discounts work for any product categories? (market basket analysisn-bundling vs time)\n",
    "11. How is the product-wise sales within each categories? (pivot table)\n",
    "12. Is there any significant difference between the products orders on weekdays and weekends? (hypothesis)\n",
    "13. How can we refine existing data collection for better insights? (suggestions)\n",
    "14. What is the average time (in number of orders) between the purchase of the top 5 most popular products? (Geometric distribution)\n",
    "\n",
    "\n",
    "** Since the test set is not available, the training set is considered as the test set and the prior set is considered as the training set.\n"
   ]
  },
  {
   "cell_type": "code",
   "execution_count": 1,
   "id": "9d8cb04d",
   "metadata": {
    "_cell_guid": "b1076dfc-b9ad-4769-8c92-a6c4dae69d19",
    "_uuid": "8f2839f25d086af736a60e9eeb907d3b93b6e0e5",
    "execution": {
     "iopub.execute_input": "2022-05-14T11:18:31.132971Z",
     "iopub.status.busy": "2022-05-14T11:18:31.132615Z",
     "iopub.status.idle": "2022-05-14T11:18:31.144050Z",
     "shell.execute_reply": "2022-05-14T11:18:31.142735Z"
    },
    "papermill": {
     "duration": 0.03019,
     "end_time": "2022-05-14T11:18:31.147167",
     "exception": false,
     "start_time": "2022-05-14T11:18:31.116977",
     "status": "completed"
    },
    "tags": []
   },
   "outputs": [],
   "source": [
    "#Libraries required \n",
    "\n",
    "import numpy as np # linear algebra\n",
    "import pandas as pd # data processing, CSV file I/O (e.g. pd.read_csv)\n",
    "import os\n"
   ]
  },
  {
   "cell_type": "code",
   "execution_count": 2,
   "id": "6309f7f4",
   "metadata": {
    "execution": {
     "iopub.execute_input": "2022-05-14T11:18:31.177840Z",
     "iopub.status.busy": "2022-05-14T11:18:31.176948Z",
     "iopub.status.idle": "2022-05-14T11:18:51.824079Z",
     "shell.execute_reply": "2022-05-14T11:18:51.822951Z"
    },
    "papermill": {
     "duration": 20.665468,
     "end_time": "2022-05-14T11:18:51.827370",
     "exception": false,
     "start_time": "2022-05-14T11:18:31.161902",
     "status": "completed"
    },
    "tags": []
   },
   "outputs": [],
   "source": [
    "#Loading data\n",
    "\n",
    "aisles_df = pd.read_csv('../input/instacart-online-grocery-basket-analysis-dataset/aisles.csv')\n",
    "department_df = pd.read_csv('../input/instacart-online-grocery-basket-analysis-dataset/departments.csv')\n",
    "order_products_train_df = pd.read_csv('../input/instacart-online-grocery-basket-analysis-dataset/order_products__prior.csv')\n",
    "order_products_test_df = pd.read_csv('../input/instacart-online-grocery-basket-analysis-dataset/order_products__train.csv')\n",
    "orders_df = pd.read_csv('../input/instacart-online-grocery-basket-analysis-dataset/orders.csv')\n",
    "products_df = pd.read_csv('../input/instacart-online-grocery-basket-analysis-dataset/products.csv')\n"
   ]
  },
  {
   "cell_type": "markdown",
   "id": "c314315a",
   "metadata": {
    "papermill": {
     "duration": 0.013814,
     "end_time": "2022-05-14T11:18:51.856563",
     "exception": false,
     "start_time": "2022-05-14T11:18:51.842749",
     "status": "completed"
    },
    "tags": []
   },
   "source": [
    "# 1. What are the summary statistics? "
   ]
  },
  {
   "cell_type": "code",
   "execution_count": 3,
   "id": "c58b0e91",
   "metadata": {
    "execution": {
     "iopub.execute_input": "2022-05-14T11:18:51.888873Z",
     "iopub.status.busy": "2022-05-14T11:18:51.888531Z",
     "iopub.status.idle": "2022-05-14T11:18:51.925997Z",
     "shell.execute_reply": "2022-05-14T11:18:51.924957Z"
    },
    "papermill": {
     "duration": 0.058015,
     "end_time": "2022-05-14T11:18:51.930080",
     "exception": false,
     "start_time": "2022-05-14T11:18:51.872065",
     "status": "completed"
    },
    "tags": []
   },
   "outputs": [
    {
     "name": "stdout",
     "output_type": "stream",
     "text": [
      "<class 'pandas.core.frame.DataFrame'>\n",
      "RangeIndex: 134 entries, 0 to 133\n",
      "Data columns (total 2 columns):\n",
      " #   Column    Non-Null Count  Dtype \n",
      "---  ------    --------------  ----- \n",
      " 0   aisle_id  134 non-null    int64 \n",
      " 1   aisle     134 non-null    object\n",
      "dtypes: int64(1), object(1)\n",
      "memory usage: 2.2+ KB\n"
     ]
    }
   ],
   "source": [
    "#Summary statistics - Aisles\n",
    "aisles_df.info()"
   ]
  },
  {
   "cell_type": "code",
   "execution_count": 4,
   "id": "2f9b7cb4",
   "metadata": {
    "execution": {
     "iopub.execute_input": "2022-05-14T11:18:51.963486Z",
     "iopub.status.busy": "2022-05-14T11:18:51.962649Z",
     "iopub.status.idle": "2022-05-14T11:18:51.986806Z",
     "shell.execute_reply": "2022-05-14T11:18:51.985732Z"
    },
    "papermill": {
     "duration": 0.04402,
     "end_time": "2022-05-14T11:18:51.989619",
     "exception": false,
     "start_time": "2022-05-14T11:18:51.945599",
     "status": "completed"
    },
    "tags": []
   },
   "outputs": [
    {
     "data": {
      "text/html": [
       "<div>\n",
       "<style scoped>\n",
       "    .dataframe tbody tr th:only-of-type {\n",
       "        vertical-align: middle;\n",
       "    }\n",
       "\n",
       "    .dataframe tbody tr th {\n",
       "        vertical-align: top;\n",
       "    }\n",
       "\n",
       "    .dataframe thead th {\n",
       "        text-align: right;\n",
       "    }\n",
       "</style>\n",
       "<table border=\"1\" class=\"dataframe\">\n",
       "  <thead>\n",
       "    <tr style=\"text-align: right;\">\n",
       "      <th></th>\n",
       "      <th>aisle_id</th>\n",
       "      <th>aisle</th>\n",
       "    </tr>\n",
       "  </thead>\n",
       "  <tbody>\n",
       "    <tr>\n",
       "      <th>0</th>\n",
       "      <td>1</td>\n",
       "      <td>prepared soups salads</td>\n",
       "    </tr>\n",
       "    <tr>\n",
       "      <th>1</th>\n",
       "      <td>2</td>\n",
       "      <td>specialty cheeses</td>\n",
       "    </tr>\n",
       "    <tr>\n",
       "      <th>2</th>\n",
       "      <td>3</td>\n",
       "      <td>energy granola bars</td>\n",
       "    </tr>\n",
       "    <tr>\n",
       "      <th>3</th>\n",
       "      <td>4</td>\n",
       "      <td>instant foods</td>\n",
       "    </tr>\n",
       "    <tr>\n",
       "      <th>4</th>\n",
       "      <td>5</td>\n",
       "      <td>marinades meat preparation</td>\n",
       "    </tr>\n",
       "  </tbody>\n",
       "</table>\n",
       "</div>"
      ],
      "text/plain": [
       "   aisle_id                       aisle\n",
       "0         1       prepared soups salads\n",
       "1         2           specialty cheeses\n",
       "2         3         energy granola bars\n",
       "3         4               instant foods\n",
       "4         5  marinades meat preparation"
      ]
     },
     "execution_count": 4,
     "metadata": {},
     "output_type": "execute_result"
    }
   ],
   "source": [
    "aisles_df.head()"
   ]
  },
  {
   "cell_type": "code",
   "execution_count": 5,
   "id": "f452a7fd",
   "metadata": {
    "execution": {
     "iopub.execute_input": "2022-05-14T11:18:52.024211Z",
     "iopub.status.busy": "2022-05-14T11:18:52.022984Z",
     "iopub.status.idle": "2022-05-14T11:18:52.039910Z",
     "shell.execute_reply": "2022-05-14T11:18:52.038243Z"
    },
    "papermill": {
     "duration": 0.037042,
     "end_time": "2022-05-14T11:18:52.042713",
     "exception": false,
     "start_time": "2022-05-14T11:18:52.005671",
     "status": "completed"
    },
    "tags": []
   },
   "outputs": [
    {
     "name": "stdout",
     "output_type": "stream",
     "text": [
      "<class 'pandas.core.frame.DataFrame'>\n",
      "RangeIndex: 21 entries, 0 to 20\n",
      "Data columns (total 2 columns):\n",
      " #   Column         Non-Null Count  Dtype \n",
      "---  ------         --------------  ----- \n",
      " 0   department_id  21 non-null     int64 \n",
      " 1   department     21 non-null     object\n",
      "dtypes: int64(1), object(1)\n",
      "memory usage: 464.0+ bytes\n"
     ]
    }
   ],
   "source": [
    "#Summary statistics - Department\n",
    "department_df.info()"
   ]
  },
  {
   "cell_type": "code",
   "execution_count": 6,
   "id": "8f86856c",
   "metadata": {
    "execution": {
     "iopub.execute_input": "2022-05-14T11:18:52.077830Z",
     "iopub.status.busy": "2022-05-14T11:18:52.077389Z",
     "iopub.status.idle": "2022-05-14T11:18:52.091808Z",
     "shell.execute_reply": "2022-05-14T11:18:52.090560Z"
    },
    "papermill": {
     "duration": 0.03558,
     "end_time": "2022-05-14T11:18:52.094896",
     "exception": false,
     "start_time": "2022-05-14T11:18:52.059316",
     "status": "completed"
    },
    "tags": []
   },
   "outputs": [
    {
     "data": {
      "text/html": [
       "<div>\n",
       "<style scoped>\n",
       "    .dataframe tbody tr th:only-of-type {\n",
       "        vertical-align: middle;\n",
       "    }\n",
       "\n",
       "    .dataframe tbody tr th {\n",
       "        vertical-align: top;\n",
       "    }\n",
       "\n",
       "    .dataframe thead th {\n",
       "        text-align: right;\n",
       "    }\n",
       "</style>\n",
       "<table border=\"1\" class=\"dataframe\">\n",
       "  <thead>\n",
       "    <tr style=\"text-align: right;\">\n",
       "      <th></th>\n",
       "      <th>department_id</th>\n",
       "      <th>department</th>\n",
       "    </tr>\n",
       "  </thead>\n",
       "  <tbody>\n",
       "    <tr>\n",
       "      <th>0</th>\n",
       "      <td>1</td>\n",
       "      <td>frozen</td>\n",
       "    </tr>\n",
       "    <tr>\n",
       "      <th>1</th>\n",
       "      <td>2</td>\n",
       "      <td>other</td>\n",
       "    </tr>\n",
       "    <tr>\n",
       "      <th>2</th>\n",
       "      <td>3</td>\n",
       "      <td>bakery</td>\n",
       "    </tr>\n",
       "    <tr>\n",
       "      <th>3</th>\n",
       "      <td>4</td>\n",
       "      <td>produce</td>\n",
       "    </tr>\n",
       "    <tr>\n",
       "      <th>4</th>\n",
       "      <td>5</td>\n",
       "      <td>alcohol</td>\n",
       "    </tr>\n",
       "  </tbody>\n",
       "</table>\n",
       "</div>"
      ],
      "text/plain": [
       "   department_id department\n",
       "0              1     frozen\n",
       "1              2      other\n",
       "2              3     bakery\n",
       "3              4    produce\n",
       "4              5    alcohol"
      ]
     },
     "execution_count": 6,
     "metadata": {},
     "output_type": "execute_result"
    }
   ],
   "source": [
    "department_df.head()"
   ]
  },
  {
   "cell_type": "code",
   "execution_count": 7,
   "id": "52f50aef",
   "metadata": {
    "execution": {
     "iopub.execute_input": "2022-05-14T11:18:52.131939Z",
     "iopub.status.busy": "2022-05-14T11:18:52.130832Z",
     "iopub.status.idle": "2022-05-14T11:18:52.156342Z",
     "shell.execute_reply": "2022-05-14T11:18:52.154895Z"
    },
    "papermill": {
     "duration": 0.047471,
     "end_time": "2022-05-14T11:18:52.159397",
     "exception": false,
     "start_time": "2022-05-14T11:18:52.111926",
     "status": "completed"
    },
    "tags": []
   },
   "outputs": [
    {
     "name": "stdout",
     "output_type": "stream",
     "text": [
      "<class 'pandas.core.frame.DataFrame'>\n",
      "RangeIndex: 49688 entries, 0 to 49687\n",
      "Data columns (total 4 columns):\n",
      " #   Column         Non-Null Count  Dtype \n",
      "---  ------         --------------  ----- \n",
      " 0   product_id     49688 non-null  int64 \n",
      " 1   product_name   49688 non-null  object\n",
      " 2   aisle_id       49688 non-null  int64 \n",
      " 3   department_id  49688 non-null  int64 \n",
      "dtypes: int64(3), object(1)\n",
      "memory usage: 1.5+ MB\n"
     ]
    }
   ],
   "source": [
    "#Summary statistics - Products\n",
    "products_df.info()"
   ]
  },
  {
   "cell_type": "code",
   "execution_count": 8,
   "id": "48def4ab",
   "metadata": {
    "execution": {
     "iopub.execute_input": "2022-05-14T11:18:52.195859Z",
     "iopub.status.busy": "2022-05-14T11:18:52.195522Z",
     "iopub.status.idle": "2022-05-14T11:18:52.207538Z",
     "shell.execute_reply": "2022-05-14T11:18:52.205884Z"
    },
    "papermill": {
     "duration": 0.033662,
     "end_time": "2022-05-14T11:18:52.210575",
     "exception": false,
     "start_time": "2022-05-14T11:18:52.176913",
     "status": "completed"
    },
    "tags": []
   },
   "outputs": [
    {
     "data": {
      "text/html": [
       "<div>\n",
       "<style scoped>\n",
       "    .dataframe tbody tr th:only-of-type {\n",
       "        vertical-align: middle;\n",
       "    }\n",
       "\n",
       "    .dataframe tbody tr th {\n",
       "        vertical-align: top;\n",
       "    }\n",
       "\n",
       "    .dataframe thead th {\n",
       "        text-align: right;\n",
       "    }\n",
       "</style>\n",
       "<table border=\"1\" class=\"dataframe\">\n",
       "  <thead>\n",
       "    <tr style=\"text-align: right;\">\n",
       "      <th></th>\n",
       "      <th>product_id</th>\n",
       "      <th>product_name</th>\n",
       "      <th>aisle_id</th>\n",
       "      <th>department_id</th>\n",
       "    </tr>\n",
       "  </thead>\n",
       "  <tbody>\n",
       "    <tr>\n",
       "      <th>0</th>\n",
       "      <td>1</td>\n",
       "      <td>Chocolate Sandwich Cookies</td>\n",
       "      <td>61</td>\n",
       "      <td>19</td>\n",
       "    </tr>\n",
       "    <tr>\n",
       "      <th>1</th>\n",
       "      <td>2</td>\n",
       "      <td>All-Seasons Salt</td>\n",
       "      <td>104</td>\n",
       "      <td>13</td>\n",
       "    </tr>\n",
       "    <tr>\n",
       "      <th>2</th>\n",
       "      <td>3</td>\n",
       "      <td>Robust Golden Unsweetened Oolong Tea</td>\n",
       "      <td>94</td>\n",
       "      <td>7</td>\n",
       "    </tr>\n",
       "    <tr>\n",
       "      <th>3</th>\n",
       "      <td>4</td>\n",
       "      <td>Smart Ones Classic Favorites Mini Rigatoni Wit...</td>\n",
       "      <td>38</td>\n",
       "      <td>1</td>\n",
       "    </tr>\n",
       "    <tr>\n",
       "      <th>4</th>\n",
       "      <td>5</td>\n",
       "      <td>Green Chile Anytime Sauce</td>\n",
       "      <td>5</td>\n",
       "      <td>13</td>\n",
       "    </tr>\n",
       "  </tbody>\n",
       "</table>\n",
       "</div>"
      ],
      "text/plain": [
       "   product_id                                       product_name  aisle_id  \\\n",
       "0           1                         Chocolate Sandwich Cookies        61   \n",
       "1           2                                   All-Seasons Salt       104   \n",
       "2           3               Robust Golden Unsweetened Oolong Tea        94   \n",
       "3           4  Smart Ones Classic Favorites Mini Rigatoni Wit...        38   \n",
       "4           5                          Green Chile Anytime Sauce         5   \n",
       "\n",
       "   department_id  \n",
       "0             19  \n",
       "1             13  \n",
       "2              7  \n",
       "3              1  \n",
       "4             13  "
      ]
     },
     "execution_count": 8,
     "metadata": {},
     "output_type": "execute_result"
    }
   ],
   "source": [
    "products_df.head()"
   ]
  },
  {
   "cell_type": "code",
   "execution_count": 9,
   "id": "eb63ef35",
   "metadata": {
    "execution": {
     "iopub.execute_input": "2022-05-14T11:18:52.255800Z",
     "iopub.status.busy": "2022-05-14T11:18:52.255028Z",
     "iopub.status.idle": "2022-05-14T11:18:52.271908Z",
     "shell.execute_reply": "2022-05-14T11:18:52.271117Z"
    },
    "papermill": {
     "duration": 0.043085,
     "end_time": "2022-05-14T11:18:52.275344",
     "exception": false,
     "start_time": "2022-05-14T11:18:52.232259",
     "status": "completed"
    },
    "tags": []
   },
   "outputs": [
    {
     "name": "stdout",
     "output_type": "stream",
     "text": [
      "<class 'pandas.core.frame.DataFrame'>\n",
      "RangeIndex: 3421083 entries, 0 to 3421082\n",
      "Data columns (total 7 columns):\n",
      " #   Column                  Dtype  \n",
      "---  ------                  -----  \n",
      " 0   order_id                int64  \n",
      " 1   user_id                 int64  \n",
      " 2   eval_set                object \n",
      " 3   order_number            int64  \n",
      " 4   order_dow               int64  \n",
      " 5   order_hour_of_day       int64  \n",
      " 6   days_since_prior_order  float64\n",
      "dtypes: float64(1), int64(5), object(1)\n",
      "memory usage: 182.7+ MB\n"
     ]
    }
   ],
   "source": [
    "orders_df.info()"
   ]
  },
  {
   "cell_type": "code",
   "execution_count": 10,
   "id": "7fd34de2",
   "metadata": {
    "execution": {
     "iopub.execute_input": "2022-05-14T11:18:52.321638Z",
     "iopub.status.busy": "2022-05-14T11:18:52.321279Z",
     "iopub.status.idle": "2022-05-14T11:18:52.754416Z",
     "shell.execute_reply": "2022-05-14T11:18:52.751391Z"
    },
    "papermill": {
     "duration": 0.46469,
     "end_time": "2022-05-14T11:18:52.762172",
     "exception": false,
     "start_time": "2022-05-14T11:18:52.297482",
     "status": "completed"
    },
    "tags": []
   },
   "outputs": [
    {
     "data": {
      "text/plain": [
       "array(['prior', 'train', 'test'], dtype=object)"
      ]
     },
     "execution_count": 10,
     "metadata": {},
     "output_type": "execute_result"
    }
   ],
   "source": [
    "orders_df.eval_set.unique()"
   ]
  },
  {
   "cell_type": "code",
   "execution_count": null,
   "id": "fac7266f",
   "metadata": {
    "papermill": {
     "duration": 0.017418,
     "end_time": "2022-05-14T11:18:52.833217",
     "exception": false,
     "start_time": "2022-05-14T11:18:52.815799",
     "status": "completed"
    },
    "tags": []
   },
   "outputs": [],
   "source": []
  }
 ],
 "metadata": {
  "kernelspec": {
   "display_name": "Python 3",
   "language": "python",
   "name": "python3"
  },
  "language_info": {
   "codemirror_mode": {
    "name": "ipython",
    "version": 3
   },
   "file_extension": ".py",
   "mimetype": "text/x-python",
   "name": "python",
   "nbconvert_exporter": "python",
   "pygments_lexer": "ipython3",
   "version": "3.7.12"
  },
  "papermill": {
   "default_parameters": {},
   "duration": 35.59607,
   "end_time": "2022-05-14T11:18:53.883665",
   "environment_variables": {},
   "exception": null,
   "input_path": "__notebook__.ipynb",
   "output_path": "__notebook__.ipynb",
   "parameters": {},
   "start_time": "2022-05-14T11:18:18.287595",
   "version": "2.3.4"
  }
 },
 "nbformat": 4,
 "nbformat_minor": 5
}
