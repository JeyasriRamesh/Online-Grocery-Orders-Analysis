{
 "cells": [
  {
   "cell_type": "markdown",
   "id": "e6a7e23d",
   "metadata": {
    "papermill": {
     "duration": 0.014542,
     "end_time": "2022-05-14T09:01:17.118219",
     "exception": false,
     "start_time": "2022-05-14T09:01:17.103677",
     "status": "completed"
    },
    "tags": []
   },
   "source": [
    " \n",
    "# Business Questions\n",
    "\n",
    "1. What are the summary statistics? \n",
    "2. How to efficiently stock the products with respect to order placed time/date? \n",
    "3. How can we predict the products that will be reordered by a customer?\n",
    "4. How can the products be grouped for combo offers?\n",
    "5. What are the frequently reordered products?\n",
    "6. Are order size and frequency of orders of a customer related?\n",
    "7. How can we profile the customer?\n",
    "8. How can we increase the cart size of the customer?\n",
    "9. What are all the product categories that can be removed from the catalog?\n",
    "10. Will time bound offers/discounts work for any product categories? \n",
    "11. How is the product-wise sales within each categories?\n",
    "12. Is there any significant difference between the products orders on weekdays and weekends?\n",
    "13. How can we refine existing data collection for better insights? \n",
    "\n",
    "\n",
    "** Since the test set is not available, the training set is considered as the test set and the prior set is considered as the training set.\n"
   ]
  },
  {
   "cell_type": "code",
   "execution_count": 1,
   "id": "c09e046e",
   "metadata": {
    "_cell_guid": "b1076dfc-b9ad-4769-8c92-a6c4dae69d19",
    "_uuid": "8f2839f25d086af736a60e9eeb907d3b93b6e0e5",
    "execution": {
     "iopub.execute_input": "2022-05-14T09:01:17.147450Z",
     "iopub.status.busy": "2022-05-14T09:01:17.146908Z",
     "iopub.status.idle": "2022-05-14T09:01:17.156373Z",
     "shell.execute_reply": "2022-05-14T09:01:17.155703Z"
    },
    "papermill": {
     "duration": 0.026228,
     "end_time": "2022-05-14T09:01:17.158479",
     "exception": false,
     "start_time": "2022-05-14T09:01:17.132251",
     "status": "completed"
    },
    "tags": []
   },
   "outputs": [],
   "source": [
    "#Libraries required \n",
    "\n",
    "import numpy as np # linear algebra\n",
    "import pandas as pd # data processing, CSV file I/O (e.g. pd.read_csv)\n",
    "import os\n"
   ]
  },
  {
   "cell_type": "code",
   "execution_count": 2,
   "id": "da03ab30",
   "metadata": {
    "execution": {
     "iopub.execute_input": "2022-05-14T09:01:17.186667Z",
     "iopub.status.busy": "2022-05-14T09:01:17.186147Z",
     "iopub.status.idle": "2022-05-14T09:01:36.389011Z",
     "shell.execute_reply": "2022-05-14T09:01:36.388213Z"
    },
    "papermill": {
     "duration": 19.219592,
     "end_time": "2022-05-14T09:01:36.391310",
     "exception": false,
     "start_time": "2022-05-14T09:01:17.171718",
     "status": "completed"
    },
    "tags": []
   },
   "outputs": [],
   "source": [
    "#Loading data\n",
    "\n",
    "aisles_df = pd.read_csv('../input/instacart-online-grocery-basket-analysis-dataset/aisles.csv')\n",
    "department_df = pd.read_csv('../input/instacart-online-grocery-basket-analysis-dataset/departments.csv')\n",
    "order_products_train_df = pd.read_csv('../input/instacart-online-grocery-basket-analysis-dataset/order_products__prior.csv')\n",
    "order_products_test_df = pd.read_csv('../input/instacart-online-grocery-basket-analysis-dataset/order_products__train.csv')\n",
    "orders_df = pd.read_csv('../input/instacart-online-grocery-basket-analysis-dataset/orders.csv')\n",
    "products_df = pd.read_csv('../input/instacart-online-grocery-basket-analysis-dataset/products.csv')\n"
   ]
  },
  {
   "cell_type": "markdown",
   "id": "9fd073d5",
   "metadata": {
    "papermill": {
     "duration": 0.012979,
     "end_time": "2022-05-14T09:01:36.417594",
     "exception": false,
     "start_time": "2022-05-14T09:01:36.404615",
     "status": "completed"
    },
    "tags": []
   },
   "source": [
    "# 1. What are the summary statistics? "
   ]
  },
  {
   "cell_type": "code",
   "execution_count": 3,
   "id": "bebbde5f",
   "metadata": {
    "execution": {
     "iopub.execute_input": "2022-05-14T09:01:36.445957Z",
     "iopub.status.busy": "2022-05-14T09:01:36.445692Z",
     "iopub.status.idle": "2022-05-14T09:01:36.474783Z",
     "shell.execute_reply": "2022-05-14T09:01:36.473548Z"
    },
    "papermill": {
     "duration": 0.046029,
     "end_time": "2022-05-14T09:01:36.477010",
     "exception": false,
     "start_time": "2022-05-14T09:01:36.430981",
     "status": "completed"
    },
    "tags": []
   },
   "outputs": [
    {
     "name": "stdout",
     "output_type": "stream",
     "text": [
      "<class 'pandas.core.frame.DataFrame'>\n",
      "RangeIndex: 134 entries, 0 to 133\n",
      "Data columns (total 2 columns):\n",
      " #   Column    Non-Null Count  Dtype \n",
      "---  ------    --------------  ----- \n",
      " 0   aisle_id  134 non-null    int64 \n",
      " 1   aisle     134 non-null    object\n",
      "dtypes: int64(1), object(1)\n",
      "memory usage: 2.2+ KB\n"
     ]
    }
   ],
   "source": [
    "#Summary statistics - Aisles\n",
    "aisles_df.info()"
   ]
  },
  {
   "cell_type": "code",
   "execution_count": 4,
   "id": "1f01d170",
   "metadata": {
    "execution": {
     "iopub.execute_input": "2022-05-14T09:01:36.506372Z",
     "iopub.status.busy": "2022-05-14T09:01:36.506103Z",
     "iopub.status.idle": "2022-05-14T09:01:36.521137Z",
     "shell.execute_reply": "2022-05-14T09:01:36.520045Z"
    },
    "papermill": {
     "duration": 0.03229,
     "end_time": "2022-05-14T09:01:36.523480",
     "exception": false,
     "start_time": "2022-05-14T09:01:36.491190",
     "status": "completed"
    },
    "tags": []
   },
   "outputs": [
    {
     "data": {
      "text/html": [
       "<div>\n",
       "<style scoped>\n",
       "    .dataframe tbody tr th:only-of-type {\n",
       "        vertical-align: middle;\n",
       "    }\n",
       "\n",
       "    .dataframe tbody tr th {\n",
       "        vertical-align: top;\n",
       "    }\n",
       "\n",
       "    .dataframe thead th {\n",
       "        text-align: right;\n",
       "    }\n",
       "</style>\n",
       "<table border=\"1\" class=\"dataframe\">\n",
       "  <thead>\n",
       "    <tr style=\"text-align: right;\">\n",
       "      <th></th>\n",
       "      <th>aisle_id</th>\n",
       "      <th>aisle</th>\n",
       "    </tr>\n",
       "  </thead>\n",
       "  <tbody>\n",
       "    <tr>\n",
       "      <th>0</th>\n",
       "      <td>1</td>\n",
       "      <td>prepared soups salads</td>\n",
       "    </tr>\n",
       "    <tr>\n",
       "      <th>1</th>\n",
       "      <td>2</td>\n",
       "      <td>specialty cheeses</td>\n",
       "    </tr>\n",
       "    <tr>\n",
       "      <th>2</th>\n",
       "      <td>3</td>\n",
       "      <td>energy granola bars</td>\n",
       "    </tr>\n",
       "    <tr>\n",
       "      <th>3</th>\n",
       "      <td>4</td>\n",
       "      <td>instant foods</td>\n",
       "    </tr>\n",
       "    <tr>\n",
       "      <th>4</th>\n",
       "      <td>5</td>\n",
       "      <td>marinades meat preparation</td>\n",
       "    </tr>\n",
       "  </tbody>\n",
       "</table>\n",
       "</div>"
      ],
      "text/plain": [
       "   aisle_id                       aisle\n",
       "0         1       prepared soups salads\n",
       "1         2           specialty cheeses\n",
       "2         3         energy granola bars\n",
       "3         4               instant foods\n",
       "4         5  marinades meat preparation"
      ]
     },
     "execution_count": 4,
     "metadata": {},
     "output_type": "execute_result"
    }
   ],
   "source": [
    "aisles_df.head()"
   ]
  },
  {
   "cell_type": "code",
   "execution_count": 5,
   "id": "e189975c",
   "metadata": {
    "execution": {
     "iopub.execute_input": "2022-05-14T09:01:36.553433Z",
     "iopub.status.busy": "2022-05-14T09:01:36.553125Z",
     "iopub.status.idle": "2022-05-14T09:01:36.568199Z",
     "shell.execute_reply": "2022-05-14T09:01:36.567168Z"
    },
    "papermill": {
     "duration": 0.033083,
     "end_time": "2022-05-14T09:01:36.570782",
     "exception": false,
     "start_time": "2022-05-14T09:01:36.537699",
     "status": "completed"
    },
    "tags": []
   },
   "outputs": [
    {
     "name": "stdout",
     "output_type": "stream",
     "text": [
      "<class 'pandas.core.frame.DataFrame'>\n",
      "RangeIndex: 21 entries, 0 to 20\n",
      "Data columns (total 2 columns):\n",
      " #   Column         Non-Null Count  Dtype \n",
      "---  ------         --------------  ----- \n",
      " 0   department_id  21 non-null     int64 \n",
      " 1   department     21 non-null     object\n",
      "dtypes: int64(1), object(1)\n",
      "memory usage: 464.0+ bytes\n"
     ]
    }
   ],
   "source": [
    "#Summary statistics - Department\n",
    "department_df.info()"
   ]
  },
  {
   "cell_type": "code",
   "execution_count": 6,
   "id": "5f5e2bb9",
   "metadata": {
    "execution": {
     "iopub.execute_input": "2022-05-14T09:01:36.603525Z",
     "iopub.status.busy": "2022-05-14T09:01:36.603168Z",
     "iopub.status.idle": "2022-05-14T09:01:36.613240Z",
     "shell.execute_reply": "2022-05-14T09:01:36.612241Z"
    },
    "papermill": {
     "duration": 0.029116,
     "end_time": "2022-05-14T09:01:36.615466",
     "exception": false,
     "start_time": "2022-05-14T09:01:36.586350",
     "status": "completed"
    },
    "tags": []
   },
   "outputs": [
    {
     "data": {
      "text/html": [
       "<div>\n",
       "<style scoped>\n",
       "    .dataframe tbody tr th:only-of-type {\n",
       "        vertical-align: middle;\n",
       "    }\n",
       "\n",
       "    .dataframe tbody tr th {\n",
       "        vertical-align: top;\n",
       "    }\n",
       "\n",
       "    .dataframe thead th {\n",
       "        text-align: right;\n",
       "    }\n",
       "</style>\n",
       "<table border=\"1\" class=\"dataframe\">\n",
       "  <thead>\n",
       "    <tr style=\"text-align: right;\">\n",
       "      <th></th>\n",
       "      <th>department_id</th>\n",
       "      <th>department</th>\n",
       "    </tr>\n",
       "  </thead>\n",
       "  <tbody>\n",
       "    <tr>\n",
       "      <th>0</th>\n",
       "      <td>1</td>\n",
       "      <td>frozen</td>\n",
       "    </tr>\n",
       "    <tr>\n",
       "      <th>1</th>\n",
       "      <td>2</td>\n",
       "      <td>other</td>\n",
       "    </tr>\n",
       "    <tr>\n",
       "      <th>2</th>\n",
       "      <td>3</td>\n",
       "      <td>bakery</td>\n",
       "    </tr>\n",
       "    <tr>\n",
       "      <th>3</th>\n",
       "      <td>4</td>\n",
       "      <td>produce</td>\n",
       "    </tr>\n",
       "    <tr>\n",
       "      <th>4</th>\n",
       "      <td>5</td>\n",
       "      <td>alcohol</td>\n",
       "    </tr>\n",
       "  </tbody>\n",
       "</table>\n",
       "</div>"
      ],
      "text/plain": [
       "   department_id department\n",
       "0              1     frozen\n",
       "1              2      other\n",
       "2              3     bakery\n",
       "3              4    produce\n",
       "4              5    alcohol"
      ]
     },
     "execution_count": 6,
     "metadata": {},
     "output_type": "execute_result"
    }
   ],
   "source": [
    "department_df.head()"
   ]
  },
  {
   "cell_type": "code",
   "execution_count": 7,
   "id": "cc422d9d",
   "metadata": {
    "execution": {
     "iopub.execute_input": "2022-05-14T09:01:36.647925Z",
     "iopub.status.busy": "2022-05-14T09:01:36.647674Z",
     "iopub.status.idle": "2022-05-14T09:01:36.665050Z",
     "shell.execute_reply": "2022-05-14T09:01:36.663675Z"
    },
    "papermill": {
     "duration": 0.035816,
     "end_time": "2022-05-14T09:01:36.667117",
     "exception": false,
     "start_time": "2022-05-14T09:01:36.631301",
     "status": "completed"
    },
    "tags": []
   },
   "outputs": [
    {
     "name": "stdout",
     "output_type": "stream",
     "text": [
      "<class 'pandas.core.frame.DataFrame'>\n",
      "RangeIndex: 49688 entries, 0 to 49687\n",
      "Data columns (total 4 columns):\n",
      " #   Column         Non-Null Count  Dtype \n",
      "---  ------         --------------  ----- \n",
      " 0   product_id     49688 non-null  int64 \n",
      " 1   product_name   49688 non-null  object\n",
      " 2   aisle_id       49688 non-null  int64 \n",
      " 3   department_id  49688 non-null  int64 \n",
      "dtypes: int64(3), object(1)\n",
      "memory usage: 1.5+ MB\n"
     ]
    }
   ],
   "source": [
    "#Summary statistics - Products\n",
    "products_df.info()"
   ]
  },
  {
   "cell_type": "code",
   "execution_count": 8,
   "id": "79f4ac0a",
   "metadata": {
    "execution": {
     "iopub.execute_input": "2022-05-14T09:01:36.699861Z",
     "iopub.status.busy": "2022-05-14T09:01:36.699416Z",
     "iopub.status.idle": "2022-05-14T09:01:36.708722Z",
     "shell.execute_reply": "2022-05-14T09:01:36.708153Z"
    },
    "papermill": {
     "duration": 0.0278,
     "end_time": "2022-05-14T09:01:36.710669",
     "exception": false,
     "start_time": "2022-05-14T09:01:36.682869",
     "status": "completed"
    },
    "tags": []
   },
   "outputs": [
    {
     "data": {
      "text/html": [
       "<div>\n",
       "<style scoped>\n",
       "    .dataframe tbody tr th:only-of-type {\n",
       "        vertical-align: middle;\n",
       "    }\n",
       "\n",
       "    .dataframe tbody tr th {\n",
       "        vertical-align: top;\n",
       "    }\n",
       "\n",
       "    .dataframe thead th {\n",
       "        text-align: right;\n",
       "    }\n",
       "</style>\n",
       "<table border=\"1\" class=\"dataframe\">\n",
       "  <thead>\n",
       "    <tr style=\"text-align: right;\">\n",
       "      <th></th>\n",
       "      <th>product_id</th>\n",
       "      <th>product_name</th>\n",
       "      <th>aisle_id</th>\n",
       "      <th>department_id</th>\n",
       "    </tr>\n",
       "  </thead>\n",
       "  <tbody>\n",
       "    <tr>\n",
       "      <th>0</th>\n",
       "      <td>1</td>\n",
       "      <td>Chocolate Sandwich Cookies</td>\n",
       "      <td>61</td>\n",
       "      <td>19</td>\n",
       "    </tr>\n",
       "    <tr>\n",
       "      <th>1</th>\n",
       "      <td>2</td>\n",
       "      <td>All-Seasons Salt</td>\n",
       "      <td>104</td>\n",
       "      <td>13</td>\n",
       "    </tr>\n",
       "    <tr>\n",
       "      <th>2</th>\n",
       "      <td>3</td>\n",
       "      <td>Robust Golden Unsweetened Oolong Tea</td>\n",
       "      <td>94</td>\n",
       "      <td>7</td>\n",
       "    </tr>\n",
       "    <tr>\n",
       "      <th>3</th>\n",
       "      <td>4</td>\n",
       "      <td>Smart Ones Classic Favorites Mini Rigatoni Wit...</td>\n",
       "      <td>38</td>\n",
       "      <td>1</td>\n",
       "    </tr>\n",
       "    <tr>\n",
       "      <th>4</th>\n",
       "      <td>5</td>\n",
       "      <td>Green Chile Anytime Sauce</td>\n",
       "      <td>5</td>\n",
       "      <td>13</td>\n",
       "    </tr>\n",
       "  </tbody>\n",
       "</table>\n",
       "</div>"
      ],
      "text/plain": [
       "   product_id                                       product_name  aisle_id  \\\n",
       "0           1                         Chocolate Sandwich Cookies        61   \n",
       "1           2                                   All-Seasons Salt       104   \n",
       "2           3               Robust Golden Unsweetened Oolong Tea        94   \n",
       "3           4  Smart Ones Classic Favorites Mini Rigatoni Wit...        38   \n",
       "4           5                          Green Chile Anytime Sauce         5   \n",
       "\n",
       "   department_id  \n",
       "0             19  \n",
       "1             13  \n",
       "2              7  \n",
       "3              1  \n",
       "4             13  "
      ]
     },
     "execution_count": 8,
     "metadata": {},
     "output_type": "execute_result"
    }
   ],
   "source": [
    "products_df.head()"
   ]
  },
  {
   "cell_type": "code",
   "execution_count": 9,
   "id": "7fd04807",
   "metadata": {
    "execution": {
     "iopub.execute_input": "2022-05-14T09:01:36.745267Z",
     "iopub.status.busy": "2022-05-14T09:01:36.744334Z",
     "iopub.status.idle": "2022-05-14T09:01:36.755281Z",
     "shell.execute_reply": "2022-05-14T09:01:36.754040Z"
    },
    "papermill": {
     "duration": 0.030339,
     "end_time": "2022-05-14T09:01:36.757522",
     "exception": false,
     "start_time": "2022-05-14T09:01:36.727183",
     "status": "completed"
    },
    "tags": []
   },
   "outputs": [
    {
     "name": "stdout",
     "output_type": "stream",
     "text": [
      "<class 'pandas.core.frame.DataFrame'>\n",
      "RangeIndex: 3421083 entries, 0 to 3421082\n",
      "Data columns (total 7 columns):\n",
      " #   Column                  Dtype  \n",
      "---  ------                  -----  \n",
      " 0   order_id                int64  \n",
      " 1   user_id                 int64  \n",
      " 2   eval_set                object \n",
      " 3   order_number            int64  \n",
      " 4   order_dow               int64  \n",
      " 5   order_hour_of_day       int64  \n",
      " 6   days_since_prior_order  float64\n",
      "dtypes: float64(1), int64(5), object(1)\n",
      "memory usage: 182.7+ MB\n"
     ]
    }
   ],
   "source": [
    "orders_df.info()"
   ]
  },
  {
   "cell_type": "code",
   "execution_count": 10,
   "id": "5ed3d85b",
   "metadata": {
    "execution": {
     "iopub.execute_input": "2022-05-14T09:01:36.792143Z",
     "iopub.status.busy": "2022-05-14T09:01:36.791550Z",
     "iopub.status.idle": "2022-05-14T09:01:37.045448Z",
     "shell.execute_reply": "2022-05-14T09:01:37.044561Z"
    },
    "papermill": {
     "duration": 0.273598,
     "end_time": "2022-05-14T09:01:37.047627",
     "exception": false,
     "start_time": "2022-05-14T09:01:36.774029",
     "status": "completed"
    },
    "tags": []
   },
   "outputs": [
    {
     "data": {
      "text/plain": [
       "array(['prior', 'train', 'test'], dtype=object)"
      ]
     },
     "execution_count": 10,
     "metadata": {},
     "output_type": "execute_result"
    }
   ],
   "source": [
    "orders_df.eval_set.unique()"
   ]
  },
  {
   "cell_type": "code",
   "execution_count": null,
   "id": "665dc0a7",
   "metadata": {
    "papermill": {
     "duration": 0.016454,
     "end_time": "2022-05-14T09:01:37.081020",
     "exception": false,
     "start_time": "2022-05-14T09:01:37.064566",
     "status": "completed"
    },
    "tags": []
   },
   "outputs": [],
   "source": []
  }
 ],
 "metadata": {
  "kernelspec": {
   "display_name": "Python 3",
   "language": "python",
   "name": "python3"
  },
  "language_info": {
   "codemirror_mode": {
    "name": "ipython",
    "version": 3
   },
   "file_extension": ".py",
   "mimetype": "text/x-python",
   "name": "python",
   "nbconvert_exporter": "python",
   "pygments_lexer": "ipython3",
   "version": "3.7.12"
  },
  "papermill": {
   "default_parameters": {},
   "duration": 30.718909,
   "end_time": "2022-05-14T09:01:37.718784",
   "environment_variables": {},
   "exception": null,
   "input_path": "__notebook__.ipynb",
   "output_path": "__notebook__.ipynb",
   "parameters": {},
   "start_time": "2022-05-14T09:01:06.999875",
   "version": "2.3.4"
  }
 },
 "nbformat": 4,
 "nbformat_minor": 5
}
