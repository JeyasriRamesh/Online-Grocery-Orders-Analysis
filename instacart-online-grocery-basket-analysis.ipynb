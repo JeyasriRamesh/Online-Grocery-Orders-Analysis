{
 "cells": [
  {
   "cell_type": "code",
   "execution_count": 1,
   "id": "239bfa94",
   "metadata": {
    "_cell_guid": "b1076dfc-b9ad-4769-8c92-a6c4dae69d19",
    "_uuid": "8f2839f25d086af736a60e9eeb907d3b93b6e0e5",
    "execution": {
     "iopub.execute_input": "2022-05-06T06:01:11.456562Z",
     "iopub.status.busy": "2022-05-06T06:01:11.455692Z",
     "iopub.status.idle": "2022-05-06T06:01:11.477319Z",
     "shell.execute_reply": "2022-05-06T06:01:11.476146Z"
    },
    "papermill": {
     "duration": 0.031073,
     "end_time": "2022-05-06T06:01:11.480048",
     "exception": false,
     "start_time": "2022-05-06T06:01:11.448975",
     "status": "completed"
    },
    "tags": []
   },
   "outputs": [
    {
     "name": "stdout",
     "output_type": "stream",
     "text": [
      "/kaggle/input/instacart-online-grocery-basket-analysis-dataset/products.csv\n",
      "/kaggle/input/instacart-online-grocery-basket-analysis-dataset/order_products__train.csv\n",
      "/kaggle/input/instacart-online-grocery-basket-analysis-dataset/orders.csv\n",
      "/kaggle/input/instacart-online-grocery-basket-analysis-dataset/order_products__prior.csv\n",
      "/kaggle/input/instacart-online-grocery-basket-analysis-dataset/aisles.csv\n",
      "/kaggle/input/instacart-online-grocery-basket-analysis-dataset/departments.csv\n"
     ]
    }
   ],
   "source": [
    "# This Python 3 environment comes with many helpful analytics libraries installed\n",
    "# It is defined by the kaggle/python Docker image: https://github.com/kaggle/docker-python\n",
    "# For example, here's several helpful packages to load\n",
    "\n",
    "import numpy as np # linear algebra\n",
    "import pandas as pd # data processing, CSV file I/O (e.g. pd.read_csv)\n",
    "\n",
    "# Input data files are available in the read-only \"../input/\" directory\n",
    "# For example, running this (by clicking run or pressing Shift+Enter) will list all files under the input directory\n",
    "\n",
    "import os\n",
    "for dirname, _, filenames in os.walk('/kaggle/input'):\n",
    "    for filename in filenames:\n",
    "        print(os.path.join(dirname, filename))\n",
    "\n",
    "# You can write up to 20GB to the current directory (/kaggle/working/) that gets preserved as output when you create a version using \"Save & Run All\" \n",
    "# You can also write temporary files to /kaggle/temp/, but they won't be saved outside of the current session"
   ]
  },
  {
   "cell_type": "code",
   "execution_count": 2,
   "id": "97ccc8ac",
   "metadata": {
    "execution": {
     "iopub.execute_input": "2022-05-06T06:01:11.490481Z",
     "iopub.status.busy": "2022-05-06T06:01:11.489960Z",
     "iopub.status.idle": "2022-05-06T06:01:30.121509Z",
     "shell.execute_reply": "2022-05-06T06:01:30.120563Z"
    },
    "papermill": {
     "duration": 18.639039,
     "end_time": "2022-05-06T06:01:30.123879",
     "exception": false,
     "start_time": "2022-05-06T06:01:11.484840",
     "status": "completed"
    },
    "tags": []
   },
   "outputs": [],
   "source": [
    "aisles_df = pd.read_csv('../input/instacart-online-grocery-basket-analysis-dataset/aisles.csv')\n",
    "department_df = pd.read_csv('../input/instacart-online-grocery-basket-analysis-dataset/departments.csv')\n",
    "order_products_prior_df = pd.read_csv('../input/instacart-online-grocery-basket-analysis-dataset/order_products__prior.csv')\n",
    "order_products_train_df = pd.read_csv('../input/instacart-online-grocery-basket-analysis-dataset/order_products__train.csv')\n",
    "orders_df = pd.read_csv('../input/instacart-online-grocery-basket-analysis-dataset/orders.csv')\n",
    "products_df = pd.read_csv('../input/instacart-online-grocery-basket-analysis-dataset/products.csv')\n"
   ]
  }
 ],
 "metadata": {
  "kernelspec": {
   "display_name": "Python 3",
   "language": "python",
   "name": "python3"
  },
  "language_info": {
   "codemirror_mode": {
    "name": "ipython",
    "version": 3
   },
   "file_extension": ".py",
   "mimetype": "text/x-python",
   "name": "python",
   "nbconvert_exporter": "python",
   "pygments_lexer": "ipython3",
   "version": "3.7.12"
  },
  "papermill": {
   "default_parameters": {},
   "duration": 29.39003,
   "end_time": "2022-05-06T06:01:30.748336",
   "environment_variables": {},
   "exception": null,
   "input_path": "__notebook__.ipynb",
   "output_path": "__notebook__.ipynb",
   "parameters": {},
   "start_time": "2022-05-06T06:01:01.358306",
   "version": "2.3.4"
  }
 },
 "nbformat": 4,
 "nbformat_minor": 5
}
